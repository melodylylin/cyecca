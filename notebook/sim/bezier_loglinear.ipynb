{
 "cells": [
  {
   "cell_type": "code",
   "execution_count": 1,
   "metadata": {},
   "outputs": [
    {
     "name": "stdout",
     "output_type": "stream",
     "text": [
      "python:  /home/lylin/cognipilot/cranium/src/cyecca/.venv/bin/python\n",
      "python:  /home/lylin/cognipilot/cranium/src/cyecca/.venv/bin/python\n"
     ]
    }
   ],
   "source": [
    "%load_ext autoreload\n",
    "%autoreload 2\n",
    "from corti.bezier_multirotor_planning import derive_bezier7, derive_bezier3\n",
    "from corti.TimeOptBez import find_opt_multirotor_time\n",
    "\n",
    "import numpy as np\n",
    "\n",
    "from cyecca.models.bezier import derive_ref, derive_eulerB321_to_quat, derive_multirotor\n",
    "from cyecca.lie import SO3EulerB321, SO3Quat\n",
    "import casadi as ca\n",
    "from cyecca.models.rdd2 import (\n",
    "    derive_position_control,\n",
    "    derive_attitude_control,\n",
    "    derive_attitude_rate_control,\n",
    ")\n",
    "from cyecca.models.rdd2_loglinear import (\n",
    "    derive_se23_error,\n",
    "    derive_outerloop_control,\n",
    "    derive_so3_attitude_control,\n",
    ")\n",
    "from cyecca.models.rdd2 import derive_control_allocation\n",
    "from cyecca.models.quadrotor import derive_model, sim"
   ]
  },
  {
   "cell_type": "code",
   "execution_count": 2,
   "metadata": {},
   "outputs": [],
   "source": [
    "bezier7 = derive_bezier7()\n",
    "bezier3 = derive_bezier3()\n",
    "dt = 1e-2\n",
    "\n",
    "# bezier boundary conditions\n",
    "bc_t = np.array(\n",
    "    [\n",
    "        [  # position\n",
    "            [0, 0, 0],  # wp0, x, y, z\n",
    "            [0, 0, 2],  # wp0, x, y, z\n",
    "            [0, -5, 2],\n",
    "            [5, -5, 2],\n",
    "            [5, 0, 2],\n",
    "            [0, 0, 2],\n",
    "            [0, 0, 2],\n",
    "            [0, 0, 2],\n",
    "            [0, 0, 2],\n",
    "            [0, 0, 2],\n",
    "            [0, 0, 2],\n",
    "        ],\n",
    "        [  # velocity\n",
    "            [0, 0, 0],  # wp0, x, y, z\n",
    "            [0, 0, 0],\n",
    "            [0, 0, 0],\n",
    "            [0, 0, 0],\n",
    "            [0, 0, 0],\n",
    "            [0, 0, 0],\n",
    "            [0, 0, 0],\n",
    "            [0, 0, 0],\n",
    "            [0, 0, 0],\n",
    "            [0, 0, 0],\n",
    "            [0, 0, 0],\n",
    "        ],\n",
    "        [  # accel\n",
    "            [0, 0, 0],\n",
    "            [0, 0, 0],\n",
    "            [0, 0, 0],\n",
    "            [0, 0, 0],\n",
    "            [0, 0, 0],\n",
    "            [0, 0, 0],\n",
    "            [0, 0, 0],\n",
    "            [0, 0, 0],\n",
    "            [0, 0, 0],\n",
    "            [0, 0, 0],\n",
    "            [0, 0, 0],  # wp0, x, y, z\n",
    "        ],\n",
    "        [  # jerk\n",
    "            [0, 0, 0],\n",
    "            [0, 0, 0],\n",
    "            [0, 0, 0],\n",
    "            [0, 0, 0],  # wp0, x, y, z\n",
    "            [0, 0, 0],\n",
    "            [0, 0, 0],\n",
    "            [0, 0, 0],\n",
    "            [0, 0, 0],\n",
    "            [0, 0, 0],\n",
    "            [0, 0, 0],\n",
    "            [0, 0, 0],\n",
    "        ],\n",
    "    ]\n",
    ")\n",
    "bc_psi_list = np.array(\n",
    "    [\n",
    "        [  # attitude\n",
    "            [0, 0, 0],\n",
    "            [0, 0, 0],\n",
    "            [0, 0, 0],\n",
    "            [0, 0, 0],\n",
    "            [0, 0, 0],\n",
    "            [0, 0, 0],\n",
    "            [0, 0, 0],\n",
    "            [0, 0, 0],\n",
    "            [0, 0, 0],\n",
    "            [0, 0, 0],\n",
    "            [0, 0, 0],\n",
    "        ],\n",
    "        [  # angular velocity\n",
    "            [0, 0, 0],\n",
    "            [0, 0, 0],\n",
    "            [0, 0, 0],\n",
    "            [0, 0, 0],\n",
    "            [0, 0, 0],\n",
    "            [0, 0, 0],\n",
    "            [0, 0, 0],\n",
    "            [0, 0, 0],\n",
    "            [0, 0, 0],\n",
    "            [0, 0, 0],\n",
    "            [0, 0, 0],\n",
    "        ],\n",
    "    ]\n",
    ")\n",
    "\n",
    "# solve for bezier trajectories\n",
    "k = 10\n",
    "T0_list = []\n",
    "PX_list = []\n",
    "PY_list = []\n",
    "PZ_list = []\n",
    "Ppsi_list = []\n",
    "for i in range(bc_t.shape[1] - 1):\n",
    "    bc = bc_t[:, i : i + 2, :]\n",
    "    bc_psi = bc_psi_list[:, i : i + 2, :]\n",
    "    T0 = 20  # find_opt_multirotor_time(8, 4, bc, bc_psi, k, 1)[0]\n",
    "    PX = np.array(bezier7[\"bezier7_solve\"](bc[:, 0, 0], bc[:, 1, 0], T0)).reshape(-1)\n",
    "    PY = np.array(bezier7[\"bezier7_solve\"](bc[:, 0, 1], bc[:, 1, 1], T0)).reshape(-1)\n",
    "    PZ = np.array(bezier7[\"bezier7_solve\"](bc[:, 0, 2], bc[:, 1, 2], T0)).reshape(-1)\n",
    "    Ppsi = np.array(\n",
    "        bezier3[\"bezier3_solve\"](bc_psi[:, 0, 2], bc_psi[:, 1, 2], T0)\n",
    "    ).reshape(-1)\n",
    "    T0_list.append(T0)\n",
    "    PX_list.append(PX)\n",
    "    PY_list.append(PY)\n",
    "    PZ_list.append(PZ)\n",
    "    Ppsi_list.append(Ppsi)\n",
    "\n",
    "# generate trajectory\n",
    "x_list = []\n",
    "y_list = []\n",
    "z_list = []\n",
    "vx_list = []\n",
    "vy_list = []\n",
    "vz_list = []\n",
    "ax_list = []\n",
    "ay_list = []\n",
    "az_list = []\n",
    "jx_list = []\n",
    "jy_list = []\n",
    "jz_list = []\n",
    "sx_list = []\n",
    "sy_list = []\n",
    "sz_list = []\n",
    "psi_list = []\n",
    "dpsi_list = []\n",
    "ddpsi_list = []\n",
    "t_list = []\n",
    "for leg in range(len(T0_list)):\n",
    "    n_t = 100\n",
    "    t_leg = np.array([np.arange(0, T0_list[leg], dt)])\n",
    "    traj_x = np.array(bezier7[\"bezier7_traj\"](t_leg, T0_list[leg], PX_list[leg])).T\n",
    "    traj_y = np.array(bezier7[\"bezier7_traj\"](t_leg, T0_list[leg], PY_list[leg])).T\n",
    "    traj_z = np.array(bezier7[\"bezier7_traj\"](t_leg, T0_list[leg], PZ_list[leg])).T\n",
    "    traj_psi = np.array(bezier3[\"bezier3_traj\"](t_leg, T0_list[leg], Ppsi_list[leg])).T\n",
    "    x = traj_x[:, 0]\n",
    "    y = traj_y[:, 0]\n",
    "    z = traj_z[:, 0]\n",
    "    vx = traj_x[:, 1]\n",
    "    vy = traj_y[:, 1]\n",
    "    vz = traj_z[:, 1]\n",
    "    ax = traj_x[:, 2]\n",
    "    ay = traj_y[:, 2]\n",
    "    az = traj_z[:, 2]\n",
    "    jx = traj_x[:, 3]\n",
    "    jy = traj_y[:, 3]\n",
    "    jz = traj_z[:, 3]\n",
    "    sx = traj_x[:, 4]\n",
    "    sy = traj_y[:, 4]\n",
    "    sz = traj_z[:, 4]\n",
    "    psi = traj_psi[:, 0]\n",
    "    dpsi = traj_psi[:, 1]\n",
    "    ddpsi = traj_psi[:, 2]\n",
    "    t = t_leg + leg * T0\n",
    "    t_list.extend(t.reshape(-1))\n",
    "    x_list.extend(x)\n",
    "    y_list.extend(y)\n",
    "    z_list.extend(z)\n",
    "    vx_list.extend(vx)\n",
    "    vy_list.extend(vy)\n",
    "    vz_list.extend(vz)\n",
    "    ax_list.extend(ax)\n",
    "    ay_list.extend(ay)\n",
    "    az_list.extend(az)\n",
    "    jx_list.extend(jx)\n",
    "    jy_list.extend(jy)\n",
    "    jz_list.extend(jz)\n",
    "    sx_list.extend(sx)\n",
    "    sy_list.extend(sy)\n",
    "    sz_list.extend(sz)\n",
    "    psi_list.extend(psi)\n",
    "    dpsi_list.extend(dpsi)\n",
    "    ddpsi_list.extend(ddpsi)"
   ]
  },
  {
   "cell_type": "code",
   "execution_count": 43,
   "metadata": {},
   "outputs": [
    {
     "name": "stdout",
     "output_type": "stream",
     "text": [
      "python:  /home/lylin/cognipilot/cranium/src/cyecca/.venv/bin/python\n"
     ]
    }
   ],
   "source": [
    "f = derive_control_allocation()[\"f_alloc\"]\n",
    "f_euler_to_quat = derive_eulerB321_to_quat()[\"eulerB321_to_quat\"]\n",
    "f_att_rate_control = derive_attitude_rate_control()[\"attitude_rate_control\"]\n",
    "f_multirotor = derive_multirotor()[\"bezier_multirotor\"]\n",
    "f_se23_error = derive_se23_error()[\"se23_error\"]\n",
    "f_se23_control = derive_outerloop_control()[\"se23_control\"]\n",
    "f_so3_control = derive_so3_attitude_control()[\"so3_attitude_control\"]\n",
    "f_ref = derive_ref()[\"f_ref\"]\n",
    "model = derive_model()"
   ]
  },
  {
   "cell_type": "code",
   "execution_count": 1,
   "metadata": {},
   "outputs": [
    {
     "name": "stdout",
     "output_type": "stream",
     "text": [
      "python:  /home/lylin/cognipilot/cranium/src/cyecca/.venv/bin/python\n",
      "python:  /home/lylin/cognipilot/cranium/src/cyecca/.venv/bin/python\n"
     ]
    },
    {
     "data": {
      "text/plain": [
       "(DM(\n",
       " [[00, 00, 00, -1, 00, 00, 00, 00, 00], \n",
       "  [00, 00, 00, 00, -1, 00, 00, 00, 00], \n",
       "  [00, 00, 00, 00, 00, -1, 00, 00, 00], \n",
       "  [00, 00, 00, 00, 00, 00, 00, 9.8, 00], \n",
       "  [00, 00, 00, 00, 00, 00, -9.8, 00, 00], \n",
       "  [00, 00, 00, 00, 00, 00, 00, 00, 00], \n",
       "  [00, 00, 00, 00, 00, 00, 00, 00, 00], \n",
       "  [00, 00, 00, 00, 00, 00, 00, 00, 00], \n",
       "  [00, 00, 00, 00, 00, 00, 00, 00, 00]]),\n",
       " array([[-2.77504232, -0.        , -0.        ,  0.42856028, -0.        ,\n",
       "         -0.        , -0.        ,  0.33981791, -0.        ],\n",
       "        [-0.        , -2.77504232, -0.        , -0.        ,  0.42856028,\n",
       "         -0.        , -0.33981791, -0.        , -0.        ],\n",
       "        [-0.        , -0.        , -2.7864856 , -0.        , -0.        ,\n",
       "          0.48528137, -0.        , -0.        , -0.        ],\n",
       "        [ 0.42856028, -0.        , -0.        , -1.95070533, -0.        ,\n",
       "         -0.        , -0.        , -2.206401  , -0.        ],\n",
       "        [-0.        ,  0.42856028, -0.        , -0.        , -1.95070533,\n",
       "         -0.        ,  2.206401  , -0.        , -0.        ],\n",
       "        [-0.        , -0.        ,  0.48528137, -0.        , -0.        ,\n",
       "         -2.95551429, -0.        , -0.        , -0.        ],\n",
       "        [-0.        , -0.33981791, -0.        , -0.        ,  2.206401  ,\n",
       "         -0.        , -6.80160113, -0.        , -0.        ],\n",
       "        [ 0.33981791, -0.        , -0.        , -2.206401  , -0.        ,\n",
       "         -0.        , -0.        , -6.80160113, -0.        ],\n",
       "        [-0.        , -0.        , -0.        , -0.        , -0.        ,\n",
       "         -0.        , -0.        , -0.        , -2.82842712]]),\n",
       " DM(\n",
       " [[-2.77504, 0, 0, 0.42856, 0, 0, 0, 0.339818, 0], \n",
       "  [0, -2.77504, 0, 0, 0.42856, 0, -0.339818, 0, 0], \n",
       "  [0, 0, -2.78649, 0, 0, 0.485281, 0, 0, 0], \n",
       "  [0.42856, 0, 0, -1.95071, 0, 0, 0, -2.2064, 0], \n",
       "  [0, 0.42856, 0, 0, -1.95071, 0, 2.2064, 0, 0], \n",
       "  [0, 0, 0.485281, 0, 0, -2.95551, 0, 0, 0], \n",
       "  [0, -0.339818, 0, 0, 2.2064, 0, -6.8016, 0, 0], \n",
       "  [0.339818, 0, 0, -2.2064, 0, 0, 0, -6.8016, 0], \n",
       "  [0, 0, 0, 0, 0, 0, 0, 0, -2.82843]]),\n",
       " DM(\n",
       " [[-2.77504, 0, 0, -0.57144, 0, 0, 0, 0.339818, 0], \n",
       "  [0, -2.77504, 0, 0, -0.57144, 0, -0.339818, 0, 0], \n",
       "  [0, 0, -2.78649, 0, 0, -0.514719, 0, 0, 0], \n",
       "  [0.42856, 0, 0, -1.95071, 0, 0, 0, 7.5936, 0], \n",
       "  [0, 0.42856, 0, 0, -1.95071, 0, -7.5936, 0, 0], \n",
       "  [0, 0, 0.485281, 0, 0, -2.95551, 0, 0, 0], \n",
       "  [0, -0.339818, 0, 0, 2.2064, 0, -6.8016, 0, 0], \n",
       "  [0.339818, 0, 0, -2.2064, 0, 0, 0, -6.8016, 0], \n",
       "  [0, 0, 0, 0, 0, 0, 0, 0, -2.82843]]))"
      ]
     },
     "execution_count": 1,
     "metadata": {},
     "output_type": "execute_result"
    }
   ],
   "source": [
    "from cyecca.models.rdd2_loglinear import se23_solve_control\n",
    "se23_solve_control()"
   ]
  },
  {
   "cell_type": "code",
   "execution_count": 44,
   "metadata": {},
   "outputs": [],
   "source": [
    "# loglinear\n",
    "model = derive_model()\n",
    "x0_dict = model[\"x0_defaults\"]\n",
    "x0 = None\n",
    "p = None\n",
    "if x0 is not None:\n",
    "    for k in x0.keys():\n",
    "        if not k in x0_dict.keys():\n",
    "            raise KeyError(k)\n",
    "        x0_dict[k] = x0[k]\n",
    "p_dict = model[\"p_defaults\"]\n",
    "if p is not None:\n",
    "    for k in p.keys():\n",
    "        if not k in p_dict.keys():\n",
    "            raise KeyError(k)\n",
    "        p_dict[k] = p[k]\n",
    "x = np.array(list(x0_dict.values()), dtype=float)\n",
    "p = np.array(list(p_dict.values()), dtype=float)\n",
    "u = np.zeros(4, dtype=float)\n",
    "t1 = 0\n",
    "k_p_att = np.array([5, 5, 2], dtype=float)\n",
    "leg = 0\n",
    "CT = 8.54858e-06\n",
    "\n",
    "thrust_trim = 2 * 9.8\n",
    "# attitude rate\n",
    "kp = np.array([0.3, 0.3, 0.05], dtype=float)\n",
    "ki = np.array([0, 0, 0], dtype=float)\n",
    "kd = np.array([0.0, 0.0, 0], dtype=float)\n",
    "i0 = 0\n",
    "e0 = np.zeros(3, dtype=float)  # error for attitude rate loop\n",
    "de0 = np.zeros(3, dtype=float)  # deriv of att error (for lowpass)\n",
    "f_cut = 10.0\n",
    "i_max = np.array([0, 0, 0], dtype=float)\n",
    "dae = model[\"dae\"]\n",
    "z_i = 0\n",
    "pos_list = []\n",
    "u_alloc_list = []\n",
    "M_ff_list = []\n",
    "thrust_ff_list = []\n",
    "x_sp_list = []\n",
    "y_sp_list = []\n",
    "z_sp_list = []\n",
    "v_sp_list = []\n",
    "a_sp_list = []\n",
    "j_sp_list = []\n",
    "s_sp_list = []\n",
    "motor_omega_list = []\n",
    "t1_list = []\n",
    "zeta_list = []\n",
    "for i in range(len(t_list)):\n",
    "    t = t_list[i]\n",
    "    if t > T0 * (leg + 1):\n",
    "        leg += 1\n",
    "    t_bezier = t - T0 * leg - dt / 2\n",
    "    pw = np.array(\n",
    "        [\n",
    "            x[model[\"x_index\"][\"position_op_w_0\"]],\n",
    "            x[model[\"x_index\"][\"position_op_w_1\"]],\n",
    "            x[model[\"x_index\"][\"position_op_w_2\"]],\n",
    "        ]\n",
    "    )\n",
    "    vw = np.array(\n",
    "        [\n",
    "            x[model[\"x_index\"][\"velocity_w_p_b_0\"]],\n",
    "            x[model[\"x_index\"][\"velocity_w_p_b_1\"]],\n",
    "            x[model[\"x_index\"][\"velocity_w_p_b_2\"]],\n",
    "        ]\n",
    "    )\n",
    "    q = np.array(\n",
    "        [\n",
    "            x[model[\"x_index\"][\"quaternion_wb_0\"]],\n",
    "            x[model[\"x_index\"][\"quaternion_wb_1\"]],\n",
    "            x[model[\"x_index\"][\"quaternion_wb_2\"]],\n",
    "            x[model[\"x_index\"][\"quaternion_wb_3\"]],\n",
    "        ]\n",
    "    )\n",
    "    omega = np.array(\n",
    "        [\n",
    "            x[model[\"x_index\"][\"omega_wb_b_0\"]],\n",
    "            x[model[\"x_index\"][\"omega_wb_b_1\"]],\n",
    "            x[model[\"x_index\"][\"omega_wb_b_2\"]],\n",
    "        ]\n",
    "    )\n",
    "    [\n",
    "        x_sp,\n",
    "        y_sp,\n",
    "        z_sp,\n",
    "        psi_sp,\n",
    "        dpsi_sp,\n",
    "        ddpsi_sp,\n",
    "        vw_sp,\n",
    "        aw_sp,\n",
    "        jw_sp,\n",
    "        sw_sp,\n",
    "    ] = f_multirotor(\n",
    "        t_bezier, T0, PX_list[leg], PY_list[leg], PZ_list[leg], Ppsi_list[leg]\n",
    "    )\n",
    "    [_, q_sp, omega_ff, _, M_ff, thrust_ff] = f_ref(\n",
    "        psi_sp, dpsi_sp, ddpsi_sp, vw_sp, aw_sp, jw_sp, sw_sp\n",
    "    )\n",
    "    qc_sp = f_euler_to_quat(psi_sp, 0, 0)\n",
    "    pw_sp = np.array([x_sp, y_sp, z_sp]).reshape(-1)\n",
    "    zeta = f_se23_error(\n",
    "        pw,\n",
    "        vw,\n",
    "        q,\n",
    "        pw_sp,\n",
    "        vw_sp,\n",
    "        q_sp,\n",
    "    )\n",
    "    # position control: world frame\n",
    "    [thrust, z_i, omega_fb, q_sp] = f_se23_control(\n",
    "        thrust_trim,\n",
    "        k_p_att,\n",
    "        zeta,\n",
    "        aw_sp,\n",
    "        q,\n",
    "        z_i,\n",
    "        dt,\n",
    "    )\n",
    "    omega_fb = f_so3_control(k_p_att, q, q_sp)\n",
    "    omega_sp = omega_fb + omega_ff\n",
    "    M_fb, i1, e1, de1, alpha = f_att_rate_control(\n",
    "        kp,\n",
    "        ki,\n",
    "        kd,\n",
    "        f_cut,\n",
    "        i_max,\n",
    "        omega,\n",
    "        omega_sp,\n",
    "        i0,\n",
    "        e0,\n",
    "        de0,\n",
    "        dt,\n",
    "    )\n",
    "    i0 = i1\n",
    "    e0 = e1\n",
    "    de0 = de1\n",
    "    M_sp = M_fb + M_ff\n",
    "    u, Fp, Fm, Ft, Msat = f(100, 0.25 / ca.sqrt(2), 0.016, CT, thrust, M_sp)\n",
    "    try:\n",
    "        f_int = ca.integrator(\"test\", \"cvodes\", dae, t, t + dt)\n",
    "        res = f_int(x0=x, z0=0, p=p, u=u)\n",
    "    except RuntimeError as e:\n",
    "        print(e)\n",
    "        xdot = model[\"f\"](x=x, u=u, p=p)\n",
    "        print(xdot, x, u, p)\n",
    "        raise e\n",
    "    t1 += dt\n",
    "    x = np.array(res[\"xf\"]).reshape(-1)\n",
    "    res[\"p\"] = p_dict\n",
    "    pos = x[0:3]\n",
    "    pos_list.append(np.array(pos).reshape(-1))\n",
    "    u_alloc_list.append(np.array(u).reshape(-1))\n",
    "    M_ff_list.append(np.array(M_ff).reshape(-1))\n",
    "    thrust_ff_list.append(np.array(thrust_ff).reshape(-1))\n",
    "    zeta_list.append(np.array(zeta).reshape(-1))\n",
    "# res[\"yf\"] = model[\"g\"](res[\"xf\"], u, p_dict.values())\n",
    "\n",
    "for k in [\"xf\", \"zf\"]:\n",
    "    res[k] = np.array(res[k])"
   ]
  },
  {
   "cell_type": "code",
   "execution_count": 45,
   "metadata": {},
   "outputs": [
    {
     "data": {
      "text/plain": [
       "<matplotlib.legend.Legend at 0x7cc8807d1880>"
      ]
     },
     "execution_count": 45,
     "metadata": {},
     "output_type": "execute_result"
    },
    {
     "data": {
      "image/png": "[encoded data removed]",
      "text/plain": [
       "<Figure size 640x480 with 1 Axes>"
      ]
     },
     "metadata": {},
     "output_type": "display_data"
    }
   ],
   "source": [
    "import matplotlib.pyplot as plt\n",
    "\n",
    "t = np.arange(0, t_list[-1] + dt, dt)\n",
    "plt.plot(t, np.array(pos_list)[:, 0])\n",
    "plt.plot(t, np.array(pos_list)[:, 1])\n",
    "plt.plot(t, np.array(pos_list)[:, 2])\n",
    "\n",
    "plt.plot(t, z_list)\n",
    "plt.plot(t, x_list)\n",
    "plt.plot(t, y_list)\n",
    "plt.legend([\"x\", \"y\", \"z\", \"xr\", \"yr\", \"zr\"])"
   ]
  },
  {
   "cell_type": "code",
   "execution_count": 46,
   "metadata": {},
   "outputs": [
    {
     "name": "stdout",
     "output_type": "stream",
     "text": [
      "0.09963872891511358\n",
      "0.09963952938049837\n",
      "0.24440158923067737\n"
     ]
    },
    {
     "data": {
      "image/png": "[encoded data removed]",
      "text/plain": [
       "<Figure size 640x480 with 1 Axes>"
      ]
     },
     "metadata": {},
     "output_type": "display_data"
    }
   ],
   "source": [
    "plt.plot(np.array(pos_list)[:, 0] - x_list)\n",
    "plt.plot(np.array(pos_list)[:, 1] - y_list)\n",
    "plt.plot(np.array(pos_list)[:, 2]-z_list)\n",
    "print(np.linalg.norm(np.array(pos_list)[:, 0] - x_list))\n",
    "print(np.linalg.norm(np.array(pos_list)[:, 1] - y_list))\n",
    "print(np.linalg.norm(np.array(pos_list)[:, 2] - z_list))"
   ]
  },
  {
   "cell_type": "code",
   "execution_count": 84,
   "metadata": {},
   "outputs": [
    {
     "data": {
      "text/plain": [
       "[<matplotlib.lines.Line2D at 0x74d366483b60>]"
      ]
     },
     "execution_count": 84,
     "metadata": {},
     "output_type": "execute_result"
    },
    {
     "data": {
      "image/png": "[encoded data removed]",
      "text/plain": [
       "<Figure size 640x480 with 1 Axes>"
      ]
     },
     "metadata": {},
     "output_type": "display_data"
    }
   ],
   "source": [
    "plt.plot(np.array(pos_list)[:, 2] - z_list)"
   ]
  },
  {
   "cell_type": "code",
   "execution_count": 1,
   "metadata": {},
   "outputs": [
    {
     "name": "stdout",
     "output_type": "stream",
     "text": [
      "python:  /home/lylin/cognipilot/cranium/src/cyecca/.venv/bin/python\n",
      "python:  /home/lylin/cognipilot/cranium/src/cyecca/.venv/bin/python\n"
     ]
    },
    {
     "ename": "LinAlgError",
     "evalue": "Failed to find a finite solution.",
     "output_type": "error",
     "traceback": [
      "\u001b[0;31m---------------------------------------------------------------------------\u001b[0m",
      "\u001b[0;31mLinAlgError\u001b[0m                               Traceback (most recent call last)",
      "Cell \u001b[0;32mIn[1], line 2\u001b[0m\n\u001b[1;32m      1\u001b[0m \u001b[38;5;28;01mfrom\u001b[39;00m \u001b[38;5;21;01mcyecca\u001b[39;00m\u001b[38;5;21;01m.\u001b[39;00m\u001b[38;5;21;01mmodels\u001b[39;00m\u001b[38;5;21;01m.\u001b[39;00m\u001b[38;5;21;01mrdd2_loglinear\u001b[39;00m \u001b[38;5;28;01mimport\u001b[39;00m se23_solve_control\n\u001b[0;32m----> 2\u001b[0m \u001b[43mse23_solve_control\u001b[49m\u001b[43m(\u001b[49m\u001b[43m)\u001b[49m\n",
      "File \u001b[0;32m~/cognipilot/cranium/install/cyecca/lib/python3.12/site-packages/cyecca/models/rdd2_loglinear.py:164\u001b[0m, in \u001b[0;36mse23_solve_control\u001b[0;34m()\u001b[0m\n\u001b[1;32m    162\u001b[0m Q \u001b[38;5;241m=\u001b[39m \u001b[38;5;241m10\u001b[39m \u001b[38;5;241m*\u001b[39m np\u001b[38;5;241m.\u001b[39meye(\u001b[38;5;241m9\u001b[39m)  \u001b[38;5;66;03m# penalize state\u001b[39;00m\n\u001b[1;32m    163\u001b[0m R \u001b[38;5;241m=\u001b[39m \u001b[38;5;241m1\u001b[39m \u001b[38;5;241m*\u001b[39m ca\u001b[38;5;241m.\u001b[39mDM\u001b[38;5;241m.\u001b[39meye(\u001b[38;5;241m6\u001b[39m)  \u001b[38;5;66;03m# penalize input\u001b[39;00m\n\u001b[0;32m--> 164\u001b[0m K, _, _ \u001b[38;5;241m=\u001b[39m \u001b[43mcontrol\u001b[49m\u001b[38;5;241;43m.\u001b[39;49m\u001b[43mlqr\u001b[49m\u001b[43m(\u001b[49m\u001b[43mA\u001b[49m\u001b[43m,\u001b[49m\u001b[43m \u001b[49m\u001b[43mB\u001b[49m\u001b[43m,\u001b[49m\u001b[43m \u001b[49m\u001b[43mQ\u001b[49m\u001b[43m,\u001b[49m\u001b[43m \u001b[49m\u001b[43mR\u001b[49m\u001b[43m)\u001b[49m\n\u001b[1;32m    165\u001b[0m K \u001b[38;5;241m=\u001b[39m \u001b[38;5;241m-\u001b[39mK\n\u001b[1;32m    166\u001b[0m BK \u001b[38;5;241m=\u001b[39m B \u001b[38;5;241m@\u001b[39m K\n",
      "File \u001b[0;32m~/cognipilot/cranium/src/cyecca/.venv/lib/python3.12/site-packages/control/statefbk.py:441\u001b[0m, in \u001b[0;36mlqr\u001b[0;34m(*args, **kwargs)\u001b[0m\n\u001b[1;32m    438\u001b[0m     \u001b[38;5;28;01mraise\u001b[39;00m \u001b[38;5;167;01mTypeError\u001b[39;00m(\u001b[38;5;124m\"\u001b[39m\u001b[38;5;124munrecognized keywords: \u001b[39m\u001b[38;5;124m\"\u001b[39m, \u001b[38;5;28mstr\u001b[39m(kwargs))\n\u001b[1;32m    440\u001b[0m \u001b[38;5;66;03m# Compute the result (dimension and symmetry checking done in care())\u001b[39;00m\n\u001b[0;32m--> 441\u001b[0m X, L, G \u001b[38;5;241m=\u001b[39m \u001b[43mcare\u001b[49m\u001b[43m(\u001b[49m\u001b[43mA\u001b[49m\u001b[43m,\u001b[49m\u001b[43m \u001b[49m\u001b[43mB\u001b[49m\u001b[43m,\u001b[49m\u001b[43m \u001b[49m\u001b[43mQ\u001b[49m\u001b[43m,\u001b[49m\u001b[43m \u001b[49m\u001b[43mR\u001b[49m\u001b[43m,\u001b[49m\u001b[43m \u001b[49m\u001b[43mN\u001b[49m\u001b[43m,\u001b[49m\u001b[43m \u001b[49m\u001b[38;5;28;43;01mNone\u001b[39;49;00m\u001b[43m,\u001b[49m\u001b[43m \u001b[49m\u001b[43mmethod\u001b[49m\u001b[38;5;241;43m=\u001b[39;49m\u001b[43mmethod\u001b[49m\u001b[43m,\u001b[49m\u001b[43m \u001b[49m\u001b[43m_Ss\u001b[49m\u001b[38;5;241;43m=\u001b[39;49m\u001b[38;5;124;43m\"\u001b[39;49m\u001b[38;5;124;43mN\u001b[39;49m\u001b[38;5;124;43m\"\u001b[39;49m\u001b[43m)\u001b[49m\n\u001b[1;32m    442\u001b[0m \u001b[38;5;28;01mreturn\u001b[39;00m G, X, L\n",
      "File \u001b[0;32m~/cognipilot/cranium/src/cyecca/.venv/lib/python3.12/site-packages/control/mateqn.py:423\u001b[0m, in \u001b[0;36mcare\u001b[0;34m(A, B, Q, R, S, E, stabilizing, method, _As, _Bs, _Qs, _Rs, _Ss, _Es)\u001b[0m\n\u001b[1;32m    419\u001b[0m \u001b[38;5;28;01mif\u001b[39;00m \u001b[38;5;129;01mnot\u001b[39;00m stabilizing:\n\u001b[1;32m    420\u001b[0m     \u001b[38;5;28;01mraise\u001b[39;00m ControlArgument(\n\u001b[1;32m    421\u001b[0m         \u001b[38;5;124m\"\u001b[39m\u001b[38;5;124mmethod=\u001b[39m\u001b[38;5;124m'\u001b[39m\u001b[38;5;124mscipy\u001b[39m\u001b[38;5;124m'\u001b[39m\u001b[38;5;124m not valid when stabilizing is not True\u001b[39m\u001b[38;5;124m\"\u001b[39m)\n\u001b[0;32m--> 423\u001b[0m X \u001b[38;5;241m=\u001b[39m \u001b[43msp\u001b[49m\u001b[38;5;241;43m.\u001b[39;49m\u001b[43mlinalg\u001b[49m\u001b[38;5;241;43m.\u001b[39;49m\u001b[43msolve_continuous_are\u001b[49m\u001b[43m(\u001b[49m\u001b[43mA\u001b[49m\u001b[43m,\u001b[49m\u001b[43m \u001b[49m\u001b[43mB\u001b[49m\u001b[43m,\u001b[49m\u001b[43m \u001b[49m\u001b[43mQ\u001b[49m\u001b[43m,\u001b[49m\u001b[43m \u001b[49m\u001b[43mR\u001b[49m\u001b[43m)\u001b[49m\n\u001b[1;32m    424\u001b[0m K \u001b[38;5;241m=\u001b[39m np\u001b[38;5;241m.\u001b[39mlinalg\u001b[38;5;241m.\u001b[39msolve(R, B\u001b[38;5;241m.\u001b[39mT \u001b[38;5;241m@\u001b[39m X)\n\u001b[1;32m    425\u001b[0m E, _ \u001b[38;5;241m=\u001b[39m np\u001b[38;5;241m.\u001b[39mlinalg\u001b[38;5;241m.\u001b[39meig(A \u001b[38;5;241m-\u001b[39m B \u001b[38;5;241m@\u001b[39m K)\n",
      "File \u001b[0;32m~/cognipilot/cranium/src/cyecca/.venv/lib/python3.12/site-packages/scipy/linalg/_solvers.py:505\u001b[0m, in \u001b[0;36msolve_continuous_are\u001b[0;34m(a, b, q, r, e, s, balanced)\u001b[0m\n\u001b[1;32m    503\u001b[0m up, ul, uu \u001b[38;5;241m=\u001b[39m lu(u00)\n\u001b[1;32m    504\u001b[0m \u001b[38;5;28;01mif\u001b[39;00m \u001b[38;5;241m1\u001b[39m\u001b[38;5;241m/\u001b[39mcond(uu) \u001b[38;5;241m<\u001b[39m np\u001b[38;5;241m.\u001b[39mspacing(\u001b[38;5;241m1.\u001b[39m):\n\u001b[0;32m--> 505\u001b[0m     \u001b[38;5;28;01mraise\u001b[39;00m LinAlgError(\u001b[38;5;124m'\u001b[39m\u001b[38;5;124mFailed to find a finite solution.\u001b[39m\u001b[38;5;124m'\u001b[39m)\n\u001b[1;32m    507\u001b[0m \u001b[38;5;66;03m# Exploit the triangular structure\u001b[39;00m\n\u001b[1;32m    508\u001b[0m x \u001b[38;5;241m=\u001b[39m solve_triangular(ul\u001b[38;5;241m.\u001b[39mconj()\u001b[38;5;241m.\u001b[39mT,\n\u001b[1;32m    509\u001b[0m                      solve_triangular(uu\u001b[38;5;241m.\u001b[39mconj()\u001b[38;5;241m.\u001b[39mT,\n\u001b[1;32m    510\u001b[0m                                       u10\u001b[38;5;241m.\u001b[39mconj()\u001b[38;5;241m.\u001b[39mT,\n\u001b[1;32m    511\u001b[0m                                       lower\u001b[38;5;241m=\u001b[39m\u001b[38;5;28;01mTrue\u001b[39;00m),\n\u001b[1;32m    512\u001b[0m                      unit_diagonal\u001b[38;5;241m=\u001b[39m\u001b[38;5;28;01mTrue\u001b[39;00m,\n\u001b[1;32m    513\u001b[0m                      )\u001b[38;5;241m.\u001b[39mconj()\u001b[38;5;241m.\u001b[39mT\u001b[38;5;241m.\u001b[39mdot(up\u001b[38;5;241m.\u001b[39mconj()\u001b[38;5;241m.\u001b[39mT)\n",
      "\u001b[0;31mLinAlgError\u001b[0m: Failed to find a finite solution."
     ]
    }
   ],
   "source": [
    "from cyecca.models.rdd2_loglinear import se23_solve_control\n",
    "se23_solve_control()"
   ]
  },
  {
   "cell_type": "code",
   "execution_count": 24,
   "metadata": {},
   "outputs": [],
   "source": [
    "from cyecca.lie.group_se23 import SE23Quat, SE23LieAlgebra\n",
    "from cyecca.lie.group_so3 import SO3Quat"
   ]
  },
  {
   "cell_type": "code",
   "execution_count": 35,
   "metadata": {},
   "outputs": [],
   "source": [
    "p0 = ca.vertcat(0, 0, 0)\n",
    "v0 = ca.vertcat(1, 0, 0)\n",
    "q0 = ca.vertcat(1, 0, 0, 0)\n",
    "\n",
    "p1 = ca.vertcat(1, 0, 0)\n",
    "v1 = ca.vertcat(0, 0, 0)\n",
    "q1 = ca.vertcat(1, 0, 0, 0)\n",
    "\n",
    "X0 = SE23Quat.elem(ca.vertcat(p0, v0, q0))\n",
    "X1 = SE23Quat.elem(ca.vertcat(p1, v1, q1))"
   ]
  },
  {
   "cell_type": "code",
   "execution_count": 36,
   "metadata": {},
   "outputs": [
    {
     "data": {
      "text/plain": [
       "SE23LieAlgebra: SX(@1=0, [1, @1, @1, -1, @1, @1, @1, @1, @1])"
      ]
     },
     "execution_count": 36,
     "metadata": {},
     "output_type": "execute_result"
    }
   ],
   "source": [
    "eta = X0.inverse() * X1  # in X0's body frame\n",
    "eta.log()"
   ]
  },
  {
   "cell_type": "code",
   "execution_count": 85,
   "metadata": {},
   "outputs": [],
   "source": [
    "from cyecca.models.rdd2_loglinear import se23_solve_control"
   ]
  },
  {
   "cell_type": "code",
   "execution_count": 89,
   "metadata": {},
   "outputs": [
    {
     "name": "stdout",
     "output_type": "stream",
     "text": [
      "python:  /home/lylin/cognipilot/cranium/src/cyecca/.venv/bin/python\n"
     ]
    }
   ],
   "source": [
    "B, K, BK, ABK = se23_solve_control()"
   ]
  },
  {
   "cell_type": "code",
   "execution_count": 90,
   "metadata": {},
   "outputs": [
    {
     "data": {
      "text/plain": [
       "array([[ 0.00000000e+00,  0.00000000e+00,  0.00000000e+00,\n",
       "         0.00000000e+00,  0.00000000e+00,  0.00000000e+00,\n",
       "         0.00000000e+00,  0.00000000e+00,  0.00000000e+00],\n",
       "       [ 0.00000000e+00,  0.00000000e+00,  0.00000000e+00,\n",
       "         0.00000000e+00,  0.00000000e+00,  0.00000000e+00,\n",
       "         0.00000000e+00,  0.00000000e+00,  0.00000000e+00],\n",
       "       [ 0.00000000e+00,  0.00000000e+00,  0.00000000e+00,\n",
       "         0.00000000e+00,  0.00000000e+00,  0.00000000e+00,\n",
       "         0.00000000e+00,  0.00000000e+00,  0.00000000e+00],\n",
       "       [ 2.30848001e+00,  1.14226222e-15,  0.00000000e+00,\n",
       "        -2.64331904e+00, -1.47436469e-16,  0.00000000e+00,\n",
       "        -1.19214232e-15, -2.76221369e+00,  0.00000000e+00],\n",
       "       [ 4.11827347e-17,  2.30848001e+00,  0.00000000e+00,\n",
       "        -1.47436469e-16, -2.64331904e+00,  0.00000000e+00,\n",
       "         2.76221369e+00,  1.22124533e-15,  0.00000000e+00],\n",
       "       [ 0.00000000e+00,  0.00000000e+00,  3.16227766e+00,\n",
       "         0.00000000e+00,  0.00000000e+00, -4.04036574e+00,\n",
       "         0.00000000e+00,  0.00000000e+00,  1.64107359e-16],\n",
       "       [ 2.58854309e-15, -2.16123114e+00,  0.00000000e+00,\n",
       "        -1.19214232e-15,  2.76221369e+00,  0.00000000e+00,\n",
       "        -7.51728434e+00,  1.66533454e-16,  0.00000000e+00],\n",
       "       [ 2.16123114e+00, -1.27226201e-15,  0.00000000e+00,\n",
       "        -2.76221369e+00,  1.22124533e-15,  0.00000000e+00,\n",
       "         1.66533454e-16, -7.51728434e+00,  0.00000000e+00],\n",
       "       [ 0.00000000e+00,  0.00000000e+00,  1.65113345e-16,\n",
       "         0.00000000e+00,  0.00000000e+00,  1.64107359e-16,\n",
       "         0.00000000e+00,  0.00000000e+00, -3.16227766e+00]])"
      ]
     },
     "execution_count": 90,
     "metadata": {},
     "output_type": "execute_result"
    }
   ],
   "source": [
    "BK"
   ]
  },
  {
   "cell_type": "code",
   "execution_count": null,
   "metadata": {},
   "outputs": [],
   "source": []
  }
 ],
 "metadata": {
  "kernelspec": {
   "display_name": ".venv",
   "language": "python",
   "name": "python3"
  },
  "language_info": {
   "codemirror_mode": {
    "name": "ipython",
    "version": 3
   },
   "file_extension": ".py",
   "mimetype": "text/x-python",
   "name": "python",
   "nbconvert_exporter": "python",
   "pygments_lexer": "ipython3",
   "version": "3.12.3"
  }
 },
 "nbformat": 4,
 "nbformat_minor": 2
}
