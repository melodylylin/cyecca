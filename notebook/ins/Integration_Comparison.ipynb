{
 "cells": [
  {
   "cell_type": "code",
   "execution_count": 1,
   "id": "ae421618-8b1b-4166-8b54-6e044cadae08",
   "metadata": {
    "tags": []
   },
   "outputs": [],
   "source": [
    "%load_ext autoreload\n",
    "%autoreload 2\n",
    "\n",
    "import casadi as ca\n",
    "import cyecca.lie as lie\n",
    "from cyecca.symbolic import SERIES\n",
    "from cyecca.util import rk4\n",
    "import numpy as np\n",
    "import matplotlib.pyplot as plt\n",
    "from cyecca.lie.group_se23 import SE23LieGroupElement, SE23LieAlgebraElement\n",
    "import math\n",
    "import scipy.linalg\n",
    "from pathlib import Path"
   ]
  },
  {
   "cell_type": "code",
   "execution_count": 2,
   "id": "abe9751d-94e6-4410-9812-0c83c8437bfe",
   "metadata": {
    "tags": []
   },
   "outputs": [],
   "source": [
    "def calculate_N(v: SE23LieAlgebraElement, B: ca.SX):\n",
    "    omega = v.Omega\n",
    "    Omega = omega.to_Matrix()\n",
    "    OmegaSq = Omega @ Omega\n",
    "    A = ca.sparsify(ca.horzcat(v.a_b.param, v.v_b.param))\n",
    "    B = ca.sparsify(B)\n",
    "    theta = ca.norm_2(omega.param)\n",
    "    C1 = SERIES[\"(1 - cos(x))/x^2\"](theta)\n",
    "    C2 = SERIES[\"(x - sin(x))/x^3\"](theta)\n",
    "    C3 = SERIES[\"(x^2/2 + cos(x) - 1)/x^4\"](theta)\n",
    "    AB = A @ B\n",
    "    I3 = ca.SX.eye(3)\n",
    "    return (\n",
    "        A\n",
    "        + AB / 2\n",
    "        + Omega @ A @ (C1 * np.eye(2) + C2 * B)\n",
    "        + Omega @ Omega @ A @ (C2 * np.eye(2) + C3 * B)\n",
    "    )"
   ]
  },
  {
   "cell_type": "code",
   "execution_count": 3,
   "id": "aee0eef9-192c-455c-b320-f97bf2a336ff",
   "metadata": {
    "tags": []
   },
   "outputs": [],
   "source": [
    "def exp_mixed(\n",
    "    X0: SE23LieGroupElement,\n",
    "    l: SE23LieAlgebraElement,\n",
    "    r: SE23LieAlgebraElement,\n",
    "    B: ca.SX,\n",
    "):\n",
    "    P0 = ca.horzcat(X0.v.param, X0.p.param)\n",
    "    Pl = calculate_N(l, B)\n",
    "    Pr = calculate_N(r, -B)\n",
    "    R0 = X0.R\n",
    "    Rl = (l).Omega.exp(lie.SO3Mrp)\n",
    "    Rr = (r).Omega.exp(lie.SO3Mrp)\n",
    "    Rr0 = Rr * R0\n",
    "    R1 = Rr0 * Rl\n",
    "\n",
    "    I2 = ca.SX.eye(2)\n",
    "    P1 = Rr0.to_Matrix() @ Pl + (Rr.to_Matrix() @ P0 + Pr) @ (I2 + B)\n",
    "    return lie.SE23Mrp.elem(ca.vertcat(P1[:, 1], P1[:, 0], R1.param))\n",
    "\n",
    "\n",
    "def derive_strapdown_ins_propagation():\n",
    "    dt = ca.SX.sym(\"dt\")\n",
    "    X0 = lie.SE23Mrp.elem(ca.SX.sym(\"X0\", 9))\n",
    "    a_b = ca.SX.sym(\"a_b\", 3)\n",
    "    g = ca.SX.sym(\"g\")\n",
    "    omega_b = ca.SX.sym(\"omega_b\", 3)\n",
    "    l = lie.se23.elem(ca.vertcat(0, 0, 0, a_b, omega_b))\n",
    "    r = lie.se23.elem(ca.vertcat(0, 0, 0, 0, 0, g, 0, 0, 0))\n",
    "    B = ca.sparsify(ca.SX([[0, 1], [0, 0]]))\n",
    "    X1 = exp_mixed(X0, l * dt, r * dt, B * dt)\n",
    "    r1 = lie.SO3Mrp.elem(X1.param[6:9])\n",
    "    lie.SO3Mrp.shadow_if_necessary(r1)\n",
    "    X1.param[6:9] = r1.param\n",
    "    return ca.Function(\n",
    "        \"strapdown_ins_propagate\",\n",
    "        [X0.param, a_b, omega_b, g, dt],\n",
    "        [X1.param],\n",
    "        [\"x0\", \"a_b\", \"omega_b\", \"g\", \"dt\"],\n",
    "        [\"x1\"],\n",
    "    )\n",
    "\n",
    "\n",
    "f_strapdown_ins_propagation = derive_strapdown_ins_propagation()"
   ]
  },
  {
   "cell_type": "code",
   "execution_count": 4,
   "id": "ffbb0040-17ec-40a4-8fcb-648158c44c9c",
   "metadata": {
    "tags": []
   },
   "outputs": [
    {
     "data": {
      "text/plain": [
       "DM([0, 0, 490, 0, 0, 98, 0, 0, 0])"
      ]
     },
     "execution_count": 4,
     "metadata": {},
     "output_type": "execute_result"
    }
   ],
   "source": [
    "res = f_strapdown_ins_propagation(\n",
    "    [0, 0, 0, 0, 0, 0, 0, 0, 0], [0, 0, 0], [0, 0, 0], 9.8, 10\n",
    ")\n",
    "res"
   ]
  },
  {
   "cell_type": "code",
   "execution_count": 5,
   "id": "774b5283-aa86-4fa0-a79c-a41c4db31457",
   "metadata": {
    "tags": []
   },
   "outputs": [],
   "source": [
    "r = lie.SO3Mrp.elem(ca.SX.sym(\"r\", 3))\n",
    "euler = lie.SO3EulerB321.from_Mrp(r)\n",
    "f_r_to_eulerB321 = ca.Function(\"r_to_eulerB321\", [r.param], [euler.param])"
   ]
  },
  {
   "cell_type": "code",
   "execution_count": 6,
   "id": "17e5ccd9-4fe8-4d10-b6d5-74486380633b",
   "metadata": {
    "tags": []
   },
   "outputs": [
    {
     "name": "stdout",
     "output_type": "stream",
     "text": [
      "28.8 μs ± 107 ns per loop (mean ± std. dev. of 7 runs, 10,000 loops each)\n"
     ]
    }
   ],
   "source": [
    "%%timeit\n",
    "f_strapdown_ins_propagation(\n",
    "    [0.1, 0.2, 0.3, 0.1, 0.2, 0.3, 0.1, 0.2, 0.3], [0, 0, -9.8], [0, -0.1, 0], 9.8, 1\n",
    ")"
   ]
  },
  {
   "cell_type": "code",
   "execution_count": 7,
   "id": "86fef486-891f-43c2-b310-4dfc54d66f10",
   "metadata": {
    "tags": []
   },
   "outputs": [
    {
     "data": {
      "text/plain": [
       "SX(@1=1, \n",
       "[[@1, 00, 00], \n",
       " [00, @1, 00], \n",
       " [00, 00, @1]])"
      ]
     },
     "execution_count": 7,
     "metadata": {},
     "output_type": "execute_result"
    }
   ],
   "source": [
    "lie.SO3Mrp.elem(ca.vertcat(0, 0, 0)).to_Matrix()"
   ]
  },
  {
   "cell_type": "code",
   "execution_count": 8,
   "id": "7c2cad92-370a-470b-9a82-16a5b99d0d91",
   "metadata": {
    "tags": []
   },
   "outputs": [],
   "source": [
    "def derive_rk4_kinematics():\n",
    "    x = ca.SX.sym(\"x0\", 9)\n",
    "    a_b = ca.SX.sym(\"a_b\", 3)\n",
    "    omega_b = ca.SX.sym(\"omega_b\", 3)\n",
    "    g = ca.SX.sym(\"g\")\n",
    "    p, v, r = x[:3], x[3:6], x[6:9]\n",
    "    R = lie.SO3Mrp.elem(r).to_Matrix()\n",
    "    p_dot = v\n",
    "    v_dot = R @ a_b + ca.vertcat(0, 0, g)\n",
    "\n",
    "    X = lie.so3.elem(r).to_Matrix()\n",
    "    n_sq = ca.dot(r, r)\n",
    "    B = 0.25 * ((1 - n_sq) * ca.SX.eye(3) + 2 * X + 2 * r @ r.T)\n",
    "    r_dot = B @ omega_b\n",
    "    return ca.Function(\n",
    "        \"ode_dynamics\",\n",
    "        [x, a_b, omega_b, g],\n",
    "        [ca.vertcat(p_dot, v_dot, r_dot)],\n",
    "        [\"x\", \"a_b\", \"omega_b\", \"g\"],\n",
    "        [\"x_dot\"],\n",
    "    )"
   ]
  },
  {
   "cell_type": "code",
   "execution_count": 9,
   "id": "2c78ab22-5f8f-41fe-90a2-460ac8fbd1df",
   "metadata": {
    "tags": []
   },
   "outputs": [
    {
     "data": {
      "text/plain": [
       "DM([0.0005, 0.001, 0.0505, 0.01, 0.02, 1.01, 0.00250007, 0.00500015, 0.00750022])"
      ]
     },
     "execution_count": 9,
     "metadata": {},
     "output_type": "execute_result"
    }
   ],
   "source": [
    "def derive_integrate_rk4():\n",
    "    x0 = ca.SX.sym(\"x0\", 9)\n",
    "    dt = ca.SX.sym(\"dt\")\n",
    "    a_b = ca.SX.sym(\"a_b\", 3)\n",
    "    g = ca.SX.sym(\"g\")\n",
    "    omega_b = ca.SX.sym(\"omega_b\", 3)\n",
    "    f_rk4_kinematics = derive_rk4_kinematics()\n",
    "    x1 = rk4(lambda t, x: f_rk4_kinematics(x, a_b, omega_b, g), 0, x0, dt)\n",
    "    r1 = lie.SO3Mrp.elem(x1[6:9])\n",
    "    lie.SO3Mrp.shadow_if_necessary(r1)\n",
    "    x1[6:9] = r1.param\n",
    "    return ca.Function(\n",
    "        \"integrate_rk4\",\n",
    "        [x0, a_b, omega_b, g, dt],\n",
    "        [x1[:, 0]],\n",
    "        [\"x0\", \"a_b\", \"omega_b\", \"g\", \"dt\"],\n",
    "        [\"x1\"],\n",
    "    )\n",
    "\n",
    "\n",
    "f_integrate_rk4 = derive_integrate_rk4()\n",
    "f_integrate_rk4([0, 0, 0, 0, 0, 0, 0, 0, 0], [0.1, 0.2, 0.3], [0.1, 0.2, 0.3], 9.8, 0.1)"
   ]
  },
  {
   "cell_type": "code",
   "execution_count": 10,
   "id": "f39f016b-9919-4c02-8aec-892155f1f7ee",
   "metadata": {
    "tags": []
   },
   "outputs": [
    {
     "name": "stdout",
     "output_type": "stream",
     "text": [
      "30 μs ± 254 ns per loop (mean ± std. dev. of 7 runs, 10,000 loops each)\n"
     ]
    }
   ],
   "source": [
    "%%timeit\n",
    "f_integrate_rk4(\n",
    "    [0.1, 0.2, 0.3, 0.1, 0.2, 0.3, 0.1, 0.2, 0.3], [0, 0, -9.8], [0, -0.1, 0], 9.8, 1\n",
    ")"
   ]
  },
  {
   "cell_type": "code",
   "execution_count": 11,
   "id": "e14e39ee-5a8a-4f26-9557-db70549198aa",
   "metadata": {
    "tags": []
   },
   "outputs": [],
   "source": [
    "def integrate_rk4(x0, a_b, omega_b, g, dt, tf):\n",
    "    t_list = np.arange(0, tf, dt)\n",
    "    data = {\"t\": t_list, \"x\": np.zeros((len(t_list), len(x0)), dtype=float)}\n",
    "    x = data[\"x\"]\n",
    "    x[0, :] = x0\n",
    "    for i in range(1, len(t_list)):\n",
    "        x[i, :] = np.array(f_integrate_rk4(x[i - 1, :], a_b, omega_b, g, dt)).reshape(\n",
    "            -1\n",
    "        )\n",
    "    return data\n",
    "\n",
    "\n",
    "def integrate_mixed_invariant(x0, a_b, omega_b, g, dt, tf):\n",
    "    t_list = np.arange(0, tf, dt)\n",
    "    data = {\"t\": t_list, \"x\": np.zeros((len(t_list), len(x0)), dtype=float)}\n",
    "    x = data[\"x\"]\n",
    "\n",
    "    x[0, :] = x0\n",
    "    for i in range(1, len(t_list)):\n",
    "        x[i, :] = np.array(\n",
    "            f_strapdown_ins_propagation(x0, a_b, omega_b, g, t_list[i])\n",
    "        ).reshape(-1)\n",
    "    return data"
   ]
  },
  {
   "cell_type": "code",
   "execution_count": 12,
   "id": "74dbd5fa-71ec-467f-a980-9d9ce34c15bf",
   "metadata": {
    "tags": []
   },
   "outputs": [],
   "source": [
    "from pathlib import Path\n",
    "\n",
    "\n",
    "def comparison(name: str, a_b: np.array, omega_b: np.array):\n",
    "    fig_path = Path(\"fig\")\n",
    "    fig_path.mkdir(exist_ok=True)\n",
    "    dt = 0.005\n",
    "    tf = 10\n",
    "    g = 9.8\n",
    "\n",
    "    # pos, vel, rot\n",
    "    x0 = [0, 0, 0, 0, 0, 0, 0, 0, 0]\n",
    "\n",
    "    data_rk4 = integrate_rk4(x0=x0, a_b=a_b, omega_b=omega_b, g=g, dt=dt, tf=tf)\n",
    "\n",
    "    data_mixed = integrate_mixed_invariant(\n",
    "        x0=x0, a_b=a_b, omega_b=omega_b, g=g, dt=dt, tf=tf\n",
    "    )\n",
    "\n",
    "    if True:\n",
    "        plt.figure()\n",
    "        plt.title(\"Modified Rodrigues Parameters Comparison\")\n",
    "        h_rk4 = plt.plot(data_rk4[\"t\"], data_rk4[\"x\"][:, 7:10], \"r-\", linewidth=5)[0]\n",
    "        h_mixed = plt.plot(data_mixed[\"t\"], data_mixed[\"x\"][:, 7:10], \"y-\")[0]\n",
    "        plt.legend([h_rk4, h_mixed], [\"rk4\", \"mixed\"])\n",
    "        plt.xlabel(\"t, sec\")\n",
    "        plt.ylabel(\"mrp components\")\n",
    "        plt.grid()\n",
    "        plt.savefig(f\"fig/mrp_{name:s}.png\")\n",
    "\n",
    "    if True:\n",
    "        plt.figure()\n",
    "        plt.title(\"Mrp Error in RK4 Method\")\n",
    "        plt.plot(\n",
    "            data_rk4[\"t\"],\n",
    "            data_rk4[\"x\"][:, 7:10] - data_mixed[\"x\"][:, 7:10],\n",
    "            \"r-\",\n",
    "            linewidth=5,\n",
    "            label=\"rk4\",\n",
    "        )\n",
    "        plt.xlabel(\"t, sec\")\n",
    "        plt.ylabel(\"mrp error\")\n",
    "        plt.grid()\n",
    "        plt.savefig(f\"fig/mrp_error_{name:s}.png\")\n",
    "\n",
    "    if False:\n",
    "        plt.figure()\n",
    "        plt.title(\"positon\")\n",
    "        h_rk4 = plt.plot(data_rk4[\"t\"], data_rk4[\"x\"][:, 0], \"r.-\", linewidth=10)[0]\n",
    "        h_mixed = plt.plot(data_mixed[\"t\"], data_mixed[\"x\"][:, 0], \"y.-\")[0]\n",
    "        plt.legend([h_rk4, h_mixed], [\"rk4\", \"mixed\"])\n",
    "        plt.xlabel(\"t, sec\")\n",
    "        plt.ylabel(\"position\")\n",
    "        plt.grid()\n",
    "        plt.savefig(f\"fig/pos_{name:s}.png\")\n",
    "\n",
    "    if False:\n",
    "        plt.figure()\n",
    "        plt.title(\"position error\")\n",
    "        plt.plot(data_rk4[\"t\"], data_rk4[\"x\"][:, 0] - data_mixed[\"x\"][:, 0], \"r.-\")\n",
    "        plt.xlabel(\"t, sec\")\n",
    "        plt.grid()\n",
    "        plt.savefig(f\"fig/pos_error_{name:s}.png\")\n",
    "\n",
    "    if True:\n",
    "        plt.figure()\n",
    "        plt.title(\"Trajectory Comparison in XZ-plane\")\n",
    "        h_rk4 = plt.plot(\n",
    "            data_rk4[\"x\"][:, 0], -data_rk4[\"x\"][:, 2], \"r-\", linewidth=5, label=\"rk4\"\n",
    "        )[0]\n",
    "        h_mixed = plt.plot(\n",
    "            data_mixed[\"x\"][:, 0], -data_mixed[\"x\"][:, 2], \"y-\", label=\"mixed\"\n",
    "        )[0]\n",
    "        plt.xlabel(\"t, sec\")\n",
    "        plt.legend([h_rk4, h_mixed], [\"rk4\", \"mixed\"])\n",
    "        plt.grid()\n",
    "        plt.savefig(f\"fig/traj_xz_{name:s}.png\")"
   ]
  },
  {
   "cell_type": "code",
   "execution_count": 13,
   "id": "89da7147-fecb-43e5-843c-99792cadb34e",
   "metadata": {
    "tags": []
   },
   "outputs": [],
   "source": [
    "from cyecca.graph import draw_casadi\n",
    "import casadi.tools"
   ]
  },
  {
   "cell_type": "code",
   "execution_count": 14,
   "id": "e97ff64c-7c49-4e5d-83f4-ed42386f6b0d",
   "metadata": {
    "tags": []
   },
   "outputs": [],
   "source": [
    "def draw_graphs():\n",
    "    x0 = ca.SX.sym(\"x0\", 9)\n",
    "    a_b = ca.SX.sym(\"a_b\", 3)\n",
    "    omega_b = ca.SX.sym(\"omega_b\", 3)\n",
    "    g = ca.SX.sym(\"g\")\n",
    "    dt = ca.SX.sym(\"dt\")\n",
    "    draw_casadi(\n",
    "        f_strapdown_ins_propagation(x0, a_b, omega_b, g, dt),\n",
    "        filename=\"fig/f_mixed.png\",\n",
    "        width=400,\n",
    "    )\n",
    "    draw_casadi(\n",
    "        f_integrate_rk4(x0, a_b, omega_b, g, dt), filename=\"fig/f_rk4.png\", width=400\n",
    "    )\n",
    "\n",
    "\n",
    "# draw_graphs()"
   ]
  },
  {
   "cell_type": "code",
   "execution_count": 15,
   "id": "53281f38-2bcf-4d7a-aea3-a92a15a3e05b",
   "metadata": {
    "tags": []
   },
   "outputs": [],
   "source": [
    "import casadi as ca\n",
    "import casadi.tools\n",
    "from casadi import SX, MX, print_operator\n",
    "\n",
    "\n",
    "def count_ops(s, ops=None, dep=None, invdep=None):\n",
    "    \"\"\"\n",
    "    count ops in expression\n",
    "    \"\"\"\n",
    "    import casadi\n",
    "\n",
    "    from ipywidgets import IntProgress\n",
    "    from IPython.display import display\n",
    "\n",
    "    if dep is None:\n",
    "        dep = {}\n",
    "    if invdep is None:\n",
    "        invdep = {}\n",
    "\n",
    "    op_str = {\n",
    "        eval(\"casadi.\" + item): item for item in dir(casadi) if item.startswith(\"OP_\")\n",
    "    }\n",
    "    if ops is None:\n",
    "        ops = {}\n",
    "\n",
    "    try:\n",
    "\n",
    "        def getHashSX(e):\n",
    "            if e.is_scalar(True):\n",
    "                try:\n",
    "                    return e.element_hash()\n",
    "                except:\n",
    "                    return SX__hash__backup(e)\n",
    "            else:\n",
    "                return 0\n",
    "\n",
    "        SX__hash__backup = casadi.SX.__hash__\n",
    "        casadi.SX.__hash__ = getHashSX\n",
    "        print(\"building dependency graph...\", end=\"\")\n",
    "        dep, invdep = casadi.tools.graph.dependencyGraph(s, dep, invdep)\n",
    "        print(\"done\")\n",
    "        allnodes = set(dep.keys()).union(set(invdep.keys()))\n",
    "        n = len(allnodes)\n",
    "        progress = IntProgress(min=0, max=n)\n",
    "        display(progress)\n",
    "        for i, node in enumerate(allnodes):\n",
    "            progress.value = i\n",
    "            if node.is_scalar():\n",
    "                op = node.op()\n",
    "                op_name = op_str[op]\n",
    "                if op_name in ops:\n",
    "                    ops[op_name] += 1\n",
    "                else:\n",
    "                    ops[op_name] = 1\n",
    "    finally:\n",
    "        casadi.SX.__hash__ = SX__hash__backup\n",
    "    return ops"
   ]
  },
  {
   "cell_type": "code",
   "execution_count": 16,
   "id": "c44add50-d7e0-4aaa-89cb-9b87c19cfc53",
   "metadata": {
    "tags": []
   },
   "outputs": [
    {
     "name": "stdout",
     "output_type": "stream",
     "text": [
      "building dependency graph...done\n"
     ]
    },
    {
     "data": {
      "application/vnd.jupyter.widget-view+json": {
       "model_id": "bfc80eb226e643afb704352b0d60fb4d",
       "version_major": 2,
       "version_minor": 0
      },
      "text/plain": [
       "IntProgress(value=0, max=6)"
      ]
     },
     "metadata": {},
     "output_type": "display_data"
    },
    {
     "data": {
      "text/plain": [
       "{'OP_ADD': 1, 'OP_MUL': 1, 'OP_PARAMETER': 1, 'OP_CONST': 2}"
      ]
     },
     "execution_count": 16,
     "metadata": {},
     "output_type": "execute_result"
    }
   ],
   "source": [
    "x = casadi.SX.sym(\"x\")\n",
    "count_ops(casadi.vertcat(2 * x + 3, x))"
   ]
  },
  {
   "cell_type": "code",
   "execution_count": 17,
   "id": "04333e8b-f508-48b0-8582-c6e7baca31a1",
   "metadata": {
    "tags": []
   },
   "outputs": [
    {
     "name": "stdout",
     "output_type": "stream",
     "text": [
      "building dependency graph...done\n"
     ]
    },
    {
     "data": {
      "application/vnd.jupyter.widget-view+json": {
       "model_id": "7e368b9453484e7d98de5d24db389c02",
       "version_major": 2,
       "version_minor": 0
      },
      "text/plain": [
       "IntProgress(value=0, max=394)"
      ]
     },
     "metadata": {},
     "output_type": "display_data"
    },
    {
     "data": {
      "text/plain": [
       "{'OP_SUB': 25,\n",
       " 'OP_SQ': 44,\n",
       " 'OP_NEG': 6,\n",
       " 'OP_CONST': 16,\n",
       " 'OP_MUL': 120,\n",
       " 'OP_ADD': 88,\n",
       " 'OP_FABS': 3,\n",
       " 'OP_DIV': 29,\n",
       " 'OP_IF_ELSE_ZERO': 25,\n",
       " 'OP_PARAMETER': 17,\n",
       " 'OP_LT': 6,\n",
       " 'OP_SQRT': 4,\n",
       " 'OP_REMAINDER': 1,\n",
       " 'OP_TAN': 1,\n",
       " 'OP_NOT': 5,\n",
       " 'OP_COS': 2,\n",
       " 'OP_SIN': 1}"
      ]
     },
     "execution_count": 17,
     "metadata": {},
     "output_type": "execute_result"
    }
   ],
   "source": [
    "x0 = ca.SX.sym(\"x0\", 9)\n",
    "a_b = ca.SX.sym(\"a_b\", 3)\n",
    "omega_b = ca.SX.sym(\"omega_b\", 3)\n",
    "g = ca.SX.sym(\"g\")\n",
    "dt = ca.SX.sym(\"dt\")\n",
    "\n",
    "op_dict_mixed = count_ops(f_strapdown_ins_propagation(x0, a_b, omega_b, g, dt))\n",
    "op_dict_mixed"
   ]
  },
  {
   "cell_type": "code",
   "execution_count": 18,
   "id": "3e4e8368-340c-400d-968e-bd3484158770",
   "metadata": {
    "tags": []
   },
   "outputs": [
    {
     "name": "stdout",
     "output_type": "stream",
     "text": [
      "building dependency graph...done\n"
     ]
    },
    {
     "data": {
      "application/vnd.jupyter.widget-view+json": {
       "model_id": "6cd356fade494184875ff1a1bd7c5e10",
       "version_major": 2,
       "version_minor": 0
      },
      "text/plain": [
       "IntProgress(value=0, max=701)"
      ]
     },
     "metadata": {},
     "output_type": "display_data"
    },
    {
     "data": {
      "text/plain": [
       "{'OP_ADD': 181,\n",
       " 'OP_DIV': 60,\n",
       " 'OP_MUL': 322,\n",
       " 'OP_IF_ELSE_ZERO': 6,\n",
       " 'OP_SQ': 58,\n",
       " 'OP_SUB': 44,\n",
       " 'OP_PARAMETER': 17,\n",
       " 'OP_LT': 1,\n",
       " 'OP_NEG': 3,\n",
       " 'OP_CONST': 6,\n",
       " 'OP_NOT': 1,\n",
       " 'OP_SQRT': 1}"
      ]
     },
     "execution_count": 18,
     "metadata": {},
     "output_type": "execute_result"
    }
   ],
   "source": [
    "op_dict_rk4 = count_ops(f_integrate_rk4(x0, a_b, omega_b, g, dt))\n",
    "op_dict_rk4"
   ]
  },
  {
   "cell_type": "code",
   "execution_count": 19,
   "id": "ebfd6138-3c2f-49bb-be4f-c265e8b30b38",
   "metadata": {
    "tags": []
   },
   "outputs": [],
   "source": [
    "def find_flops(op_dict):\n",
    "    flops = 0\n",
    "    for k, v in op_dict.items():\n",
    "        if k not in [\"OP_PARAMETER\", \"OP_CONST\"]:\n",
    "            flops += v\n",
    "    return flops"
   ]
  },
  {
   "cell_type": "code",
   "execution_count": 20,
   "id": "4eff9ae6-3453-4f75-bd6d-0cf136f55560",
   "metadata": {
    "tags": []
   },
   "outputs": [],
   "source": [
    "flops_mixed = find_flops(op_dict_mixed)"
   ]
  },
  {
   "cell_type": "code",
   "execution_count": 21,
   "id": "f22e00b6-d563-44e1-be3c-c44c6a1225ab",
   "metadata": {
    "tags": []
   },
   "outputs": [],
   "source": [
    "flops_rk4 = find_flops(op_dict_rk4)"
   ]
  },
  {
   "cell_type": "code",
   "execution_count": 22,
   "id": "b65cb879",
   "metadata": {},
   "outputs": [
    {
     "name": "stdout",
     "output_type": "stream",
     "text": [
      "677 360\n"
     ]
    }
   ],
   "source": [
    "print(flops_rk4, flops_mixed)"
   ]
  },
  {
   "cell_type": "code",
   "execution_count": 22,
   "id": "8b22873f-9400-4125-abb6-6c4ba2cfcd6a",
   "metadata": {
    "tags": []
   },
   "outputs": [
    {
     "data": {
      "image/png": "[encoded data removed]",
      "text/plain": [
       "<Figure size 640x480 with 1 Axes>"
      ]
     },
     "metadata": {},
     "output_type": "display_data"
    }
   ],
   "source": [
    "import matplotlib as mpl\n",
    "mpl.rcParams['font.size'] = 14\n",
    "mpl.rcParams['text.usetex'] = True\n",
    "\n",
    "plt.title(\"floating point operations\")\n",
    "plt.bar(x=[\"rk4\", \"mixed\"], height=[flops_rk4, flops_mixed], color=[\"r\", \"g\"])\n",
    "plt.ylabel(\"floating point operations\")\n",
    "Path(\"fig\").mkdir(exist_ok=True)\n",
    "plt.savefig(\"fig/ops.pdf\", dpi=300)"
   ]
  },
  {
   "cell_type": "code",
   "execution_count": 23,
   "id": "1e860639-6ac1-4fca-bdce-09d539d3ea00",
   "metadata": {
    "tags": []
   },
   "outputs": [],
   "source": [
    "def derive_f_quat_from_mrp():\n",
    "    r = lie.SO3Mrp.elem(ca.SX.sym(\"r\", 3))\n",
    "    q = lie.SO3Quat.from_Mrp(r)\n",
    "    return ca.Function(\"quat_from_mrp\", [r.param], [q.param], [\"r\"], [\"q\"])\n",
    "\n",
    "\n",
    "f_quat_from_mrp = derive_f_quat_from_mrp()"
   ]
  },
  {
   "cell_type": "code",
   "execution_count": 24,
   "id": "5d3d8386-da5c-4ba1-9fa9-a67e396d713b",
   "metadata": {
    "tags": []
   },
   "outputs": [],
   "source": [
    "from cyecca.codegen import generate_code"
   ]
  },
  {
   "cell_type": "code",
   "execution_count": 25,
   "id": "fb6bf7cd-e774-4daa-8e1f-61e874ba2bfc",
   "metadata": {
    "tags": []
   },
   "outputs": [],
   "source": [
    "generate_code(\n",
    "    eqs={\n",
    "        \"strapdown_ins\": {\n",
    "            \"predict\": f_strapdown_ins_propagation,\n",
    "            \"quat_from_mrp\": f_quat_from_mrp,\n",
    "        },\n",
    "    },\n",
    "    dest_dir=\"gen\",\n",
    ")"
   ]
  },
  {
   "cell_type": "code",
   "execution_count": 28,
   "id": "e257aa5c-d23e-4108-8e96-07bc2a7d9d79",
   "metadata": {
    "tags": []
   },
   "outputs": [],
   "source": [
    "def comparison_tolerance(name: str, x0: np.array, a_b: np.array, omega_b: np.array):\n",
    "    plt.close()\n",
    "    fig_path = Path(\"fig\")\n",
    "    fig_path.mkdir(exist_ok=True)\n",
    "    tf = 10\n",
    "    g = 9.8\n",
    "\n",
    "    rk4_steps = [10 ** (-n) for n in range(1, 4)]\n",
    "    print(rk4_steps)\n",
    "\n",
    "    plt.ioff()\n",
    "\n",
    "    plt.figure(1)\n",
    "    # plt.title(\n",
    "    #    f\"{name:s} Error in Runge-Kutta 4th Order Method\"\n",
    "    # )\n",
    "    plt.ylabel(\"$log_{10} |e|$\")\n",
    "    plt.xlabel(\"t, sec\")\n",
    "    plt.grid()\n",
    "\n",
    "    plt.figure(2)\n",
    "    # plt.title(f\"Trajectory\")\n",
    "    plt.xlabel(\"x, m\")\n",
    "    plt.ylabel(\"y, m\")\n",
    "    plt.grid()\n",
    "    plt.axis(\"equal\")\n",
    "\n",
    "    plt.figure(3)\n",
    "    # plt.title(\"mrp yaw\")\n",
    "\n",
    "    plt.figure(4)\n",
    "    # plt.title(\"vx\")\n",
    "\n",
    "    plt.figure(5)\n",
    "    # plt.title(\"vy\")\n",
    "\n",
    "    plt.figure(6)\n",
    "    # plt.title(\"x\")\n",
    "\n",
    "    plt.figure(7)\n",
    "    # plt.title(\"y\")\n",
    "\n",
    "    plt.figure(8)\n",
    "    # plt.title(\"yaw angle, deg\")\n",
    "\n",
    "    for step in rk4_steps:\n",
    "        data_rk4 = integrate_rk4(x0=x0, a_b=a_b, omega_b=omega_b, g=g, dt=step, tf=tf)\n",
    "        data_mixed = integrate_mixed_invariant(\n",
    "            x0=x0, a_b=a_b, omega_b=omega_b, g=g, dt=step, tf=tf\n",
    "        )\n",
    "        e = np.linalg.norm(data_rk4[\"x\"] - data_mixed[\"x\"], axis=1)\n",
    "        e = np.where(e == 0, 1e-15, e)\n",
    "        log_e = np.log10(np.abs(e))\n",
    "\n",
    "        # plt.subplot(121)\n",
    "        # plt.plot(data_rk4[step]['t'], e)\n",
    "        # plt.title(f'step {step:f}')\n",
    "        # plt.ylabel('e')\n",
    "        # plt.xlabel('t, s')\n",
    "\n",
    "        # plt.subplot(122)\n",
    "        plt.figure(1)\n",
    "        plt.plot(data_rk4[\"t\"], log_e, label=f\"step size: {step:10g}\")\n",
    "\n",
    "        plt.figure(2)\n",
    "        plt.plot(\n",
    "            data_rk4[\"x\"][:, 0], data_rk4[\"x\"][:, 1], label=f\"step size: {step:10g}\"\n",
    "        )\n",
    "\n",
    "        plt.figure(3)\n",
    "        plt.plot(data_rk4[\"t\"], data_rk4[\"x\"][:, 8], label=f\"step size: {step:10g}\")\n",
    "\n",
    "        plt.figure(4)\n",
    "        plt.plot(data_rk4[\"t\"], data_rk4[\"x\"][:, 3], label=f\"step size: {step:10g}\")\n",
    "\n",
    "        plt.figure(5)\n",
    "        plt.plot(data_rk4[\"t\"], data_rk4[\"x\"][:, 4], label=f\"step size: {step:10g}\")\n",
    "\n",
    "        plt.figure(6)\n",
    "        plt.plot(data_rk4[\"t\"], data_rk4[\"x\"][:, 0], label=f\"step size: {step:10g}\")\n",
    "\n",
    "        plt.figure(7)\n",
    "        plt.plot(data_rk4[\"t\"], data_rk4[\"x\"][:, 1], label=f\"step size: {step:10g}\")\n",
    "\n",
    "        plt.figure(8)\n",
    "        plt.plot(\n",
    "            data_rk4[\"t\"],\n",
    "            np.rad2deg(np.arctan2(data_rk4[\"x\"][:, 0], data_rk4[\"x\"][:, 1])),\n",
    "            label=f\"step size: {step:10g}\",\n",
    "        )\n",
    "\n",
    "    plt.figure(1)\n",
    "    plt.legend(loc=\"best\")\n",
    "    plt.savefig(f\"fig/{name:s}_tol.png\")\n",
    "    # plt.close(1)\n",
    "\n",
    "    plt.figure(2)\n",
    "    plt.legend()\n",
    "    plt.savefig(f\"fig/{name:s}_traj.png\")\n",
    "    # plt.close(2)\n",
    "\n",
    "    plt.figure(3)\n",
    "    plt.savefig(f\"fig/{name:s}_mrp_yaw.png\")\n",
    "    plt.close(3)\n",
    "\n",
    "    plt.close(4)\n",
    "    plt.close(5)\n",
    "    plt.close(6)\n",
    "    plt.close(7)\n",
    "\n",
    "    plt.figure(8)\n",
    "    # plt.title(\"yaw angle, deg\")\n",
    "    plt.savefig(f\"fig/{name:s}_yaw.png\")\n",
    "    plt.close()\n",
    "\n",
    "    plt.show()\n",
    "    plt.close()"
   ]
  },
  {
   "cell_type": "code",
   "execution_count": 29,
   "id": "1b14bfec-f738-4d20-98fd-4402701e7a3d",
   "metadata": {
    "tags": []
   },
   "outputs": [
    {
     "name": "stdout",
     "output_type": "stream",
     "text": [
      "[0.1, 0.01, 0.001]\n"
     ]
    },
    {
     "data": {
      "image/png": "[encoded data removed]",
      "text/plain": [
       "<Figure size 640x480 with 1 Axes>"
      ]
     },
     "metadata": {},
     "output_type": "display_data"
    },
    {
     "data": {
      "image/png": "[encoded data removed]",
      "text/plain": [
       "<Figure size 640x480 with 1 Axes>"
      ]
     },
     "metadata": {},
     "output_type": "display_data"
    }
   ],
   "source": [
    "def circle_comparison():\n",
    "    vx0 = 1\n",
    "    r = 1\n",
    "    ay = vx0**2 / r\n",
    "    theta_dot = vx0 / r\n",
    "    comparison_tolerance(\n",
    "        \"circle\", [0, 0, 0, vx0, 0, 0, 0, 0, 0], [0, ay, -9.8], [0, 0, theta_dot]\n",
    "    )\n",
    "\n",
    "\n",
    "circle_comparison()"
   ]
  },
  {
   "cell_type": "code",
   "execution_count": 23,
   "id": "6576dbf0-3be8-419c-a9dc-94bab424198a",
   "metadata": {
    "tags": []
   },
   "outputs": [
    {
     "data": {
      "image/png": "[encoded data removed]",
      "text/plain": [
       "<Figure size 640x480 with 1 Axes>"
      ]
     },
     "metadata": {},
     "output_type": "display_data"
    },
    {
     "data": {
      "image/png": "[encoded data removed]",
      "text/plain": [
       "<Figure size 640x480 with 1 Axes>"
      ]
     },
     "metadata": {},
     "output_type": "display_data"
    }
   ],
   "source": [
    "comparison_tolerance(\n",
    "    \"aggressive\", [1, 2, 3, 1, 2, 3, 1, 2, 3], [1, 2, -9.8 + 3], [1, 0, 3]\n",
    ")"
   ]
  },
  {
   "cell_type": "code",
   "execution_count": null,
   "id": "72d924f2",
   "metadata": {},
   "outputs": [],
   "source": []
  }
 ],
 "metadata": {
  "kernelspec": {
   "display_name": "Python 3",
   "language": "python",
   "name": "python3"
  },
  "language_info": {
   "codemirror_mode": {
    "name": "ipython",
    "version": 3
   },
   "file_extension": ".py",
   "mimetype": "text/x-python",
   "name": "python",
   "nbconvert_exporter": "python",
   "pygments_lexer": "ipython3",
   "version": "3.12.3"
  }
 },
 "nbformat": 4,
 "nbformat_minor": 5
}
